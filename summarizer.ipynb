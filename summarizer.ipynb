{
  "nbformat": 4,
  "nbformat_minor": 0,
  "metadata": {
    "colab": {
      "name": "NLP R3.ipynb",
      "provenance": [],
      "collapsed_sections": []
    },
    "kernelspec": {
      "name": "python3",
      "display_name": "Python 3"
    },
    "language_info": {
      "name": "python"
    }
  },
  "cells": [
    {
      "cell_type": "code",
      "metadata": {
        "id": "-_DqfpVeb6WS",
        "colab": {
          "base_uri": "https://localhost:8080/"
        },
        "outputId": "d4254f1a-2534-4f9a-8776-c6320b2546e8"
      },
      "source": [
        "import numpy as np\n",
        "import pandas as pd\n",
        "from warnings import filterwarnings\n",
        "filterwarnings('ignore')\n",
        "!pip install tensorflow==1.15.0\n",
        "!pip install keras==2.2.4"
      ],
      "execution_count": null,
      "outputs": [
        {
          "output_type": "stream",
          "name": "stdout",
          "text": [
            "Collecting tensorflow==1.15.0\n",
            "  Downloading tensorflow-1.15.0-cp37-cp37m-manylinux2010_x86_64.whl (412.3 MB)\n",
            "\u001b[K     |████████████████████████████████| 412.3 MB 24 kB/s \n",
            "\u001b[?25hRequirement already satisfied: google-pasta>=0.1.6 in /usr/local/lib/python3.7/dist-packages (from tensorflow==1.15.0) (0.2.0)\n",
            "Requirement already satisfied: wheel>=0.26 in /usr/local/lib/python3.7/dist-packages (from tensorflow==1.15.0) (0.37.0)\n",
            "Requirement already satisfied: absl-py>=0.7.0 in /usr/local/lib/python3.7/dist-packages (from tensorflow==1.15.0) (0.12.0)\n",
            "Collecting gast==0.2.2\n",
            "  Downloading gast-0.2.2.tar.gz (10 kB)\n",
            "Requirement already satisfied: keras-preprocessing>=1.0.5 in /usr/local/lib/python3.7/dist-packages (from tensorflow==1.15.0) (1.1.2)\n",
            "Requirement already satisfied: wrapt>=1.11.1 in /usr/local/lib/python3.7/dist-packages (from tensorflow==1.15.0) (1.13.3)\n",
            "Collecting tensorflow-estimator==1.15.1\n",
            "  Downloading tensorflow_estimator-1.15.1-py2.py3-none-any.whl (503 kB)\n",
            "\u001b[K     |████████████████████████████████| 503 kB 59.7 MB/s \n",
            "\u001b[?25hCollecting tensorboard<1.16.0,>=1.15.0\n",
            "  Downloading tensorboard-1.15.0-py3-none-any.whl (3.8 MB)\n",
            "\u001b[K     |████████████████████████████████| 3.8 MB 21.2 MB/s \n",
            "\u001b[?25hRequirement already satisfied: protobuf>=3.6.1 in /usr/local/lib/python3.7/dist-packages (from tensorflow==1.15.0) (3.17.3)\n",
            "Collecting keras-applications>=1.0.8\n",
            "  Downloading Keras_Applications-1.0.8-py3-none-any.whl (50 kB)\n",
            "\u001b[K     |████████████████████████████████| 50 kB 7.0 MB/s \n",
            "\u001b[?25hRequirement already satisfied: termcolor>=1.1.0 in /usr/local/lib/python3.7/dist-packages (from tensorflow==1.15.0) (1.1.0)\n",
            "Requirement already satisfied: grpcio>=1.8.6 in /usr/local/lib/python3.7/dist-packages (from tensorflow==1.15.0) (1.42.0)\n",
            "Requirement already satisfied: numpy<2.0,>=1.16.0 in /usr/local/lib/python3.7/dist-packages (from tensorflow==1.15.0) (1.19.5)\n",
            "Requirement already satisfied: astor>=0.6.0 in /usr/local/lib/python3.7/dist-packages (from tensorflow==1.15.0) (0.8.1)\n",
            "Requirement already satisfied: six>=1.10.0 in /usr/local/lib/python3.7/dist-packages (from tensorflow==1.15.0) (1.15.0)\n",
            "Requirement already satisfied: opt-einsum>=2.3.2 in /usr/local/lib/python3.7/dist-packages (from tensorflow==1.15.0) (3.3.0)\n",
            "Requirement already satisfied: h5py in /usr/local/lib/python3.7/dist-packages (from keras-applications>=1.0.8->tensorflow==1.15.0) (3.1.0)\n",
            "Requirement already satisfied: werkzeug>=0.11.15 in /usr/local/lib/python3.7/dist-packages (from tensorboard<1.16.0,>=1.15.0->tensorflow==1.15.0) (1.0.1)\n",
            "Requirement already satisfied: markdown>=2.6.8 in /usr/local/lib/python3.7/dist-packages (from tensorboard<1.16.0,>=1.15.0->tensorflow==1.15.0) (3.3.6)\n",
            "Requirement already satisfied: setuptools>=41.0.0 in /usr/local/lib/python3.7/dist-packages (from tensorboard<1.16.0,>=1.15.0->tensorflow==1.15.0) (57.4.0)\n",
            "Requirement already satisfied: importlib-metadata>=4.4 in /usr/local/lib/python3.7/dist-packages (from markdown>=2.6.8->tensorboard<1.16.0,>=1.15.0->tensorflow==1.15.0) (4.8.2)\n",
            "Requirement already satisfied: zipp>=0.5 in /usr/local/lib/python3.7/dist-packages (from importlib-metadata>=4.4->markdown>=2.6.8->tensorboard<1.16.0,>=1.15.0->tensorflow==1.15.0) (3.6.0)\n",
            "Requirement already satisfied: typing-extensions>=3.6.4 in /usr/local/lib/python3.7/dist-packages (from importlib-metadata>=4.4->markdown>=2.6.8->tensorboard<1.16.0,>=1.15.0->tensorflow==1.15.0) (3.10.0.2)\n",
            "Requirement already satisfied: cached-property in /usr/local/lib/python3.7/dist-packages (from h5py->keras-applications>=1.0.8->tensorflow==1.15.0) (1.5.2)\n",
            "Building wheels for collected packages: gast\n",
            "  Building wheel for gast (setup.py) ... \u001b[?25l\u001b[?25hdone\n",
            "  Created wheel for gast: filename=gast-0.2.2-py3-none-any.whl size=7554 sha256=be61f5bc1bee5af79e6abcce5dac762984076fa68316a53931644aab6d9745da\n",
            "  Stored in directory: /root/.cache/pip/wheels/21/7f/02/420f32a803f7d0967b48dd823da3f558c5166991bfd204eef3\n",
            "Successfully built gast\n",
            "Installing collected packages: tensorflow-estimator, tensorboard, keras-applications, gast, tensorflow\n",
            "  Attempting uninstall: tensorflow-estimator\n",
            "    Found existing installation: tensorflow-estimator 2.7.0\n",
            "    Uninstalling tensorflow-estimator-2.7.0:\n",
            "      Successfully uninstalled tensorflow-estimator-2.7.0\n",
            "  Attempting uninstall: tensorboard\n",
            "    Found existing installation: tensorboard 2.7.0\n",
            "    Uninstalling tensorboard-2.7.0:\n",
            "      Successfully uninstalled tensorboard-2.7.0\n",
            "  Attempting uninstall: gast\n",
            "    Found existing installation: gast 0.4.0\n",
            "    Uninstalling gast-0.4.0:\n",
            "      Successfully uninstalled gast-0.4.0\n",
            "  Attempting uninstall: tensorflow\n",
            "    Found existing installation: tensorflow 2.7.0\n",
            "    Uninstalling tensorflow-2.7.0:\n",
            "      Successfully uninstalled tensorflow-2.7.0\n",
            "\u001b[31mERROR: pip's dependency resolver does not currently take into account all the packages that are installed. This behaviour is the source of the following dependency conflicts.\n",
            "tensorflow-probability 0.15.0 requires gast>=0.3.2, but you have gast 0.2.2 which is incompatible.\n",
            "kapre 0.3.6 requires tensorflow>=2.0.0, but you have tensorflow 1.15.0 which is incompatible.\u001b[0m\n",
            "Successfully installed gast-0.2.2 keras-applications-1.0.8 tensorboard-1.15.0 tensorflow-1.15.0 tensorflow-estimator-1.15.1\n",
            "Collecting keras==2.2.4\n",
            "  Downloading Keras-2.2.4-py2.py3-none-any.whl (312 kB)\n",
            "\u001b[K     |████████████████████████████████| 312 kB 5.3 MB/s \n",
            "\u001b[?25hRequirement already satisfied: h5py in /usr/local/lib/python3.7/dist-packages (from keras==2.2.4) (3.1.0)\n",
            "Requirement already satisfied: keras-applications>=1.0.6 in /usr/local/lib/python3.7/dist-packages (from keras==2.2.4) (1.0.8)\n",
            "Requirement already satisfied: scipy>=0.14 in /usr/local/lib/python3.7/dist-packages (from keras==2.2.4) (1.4.1)\n",
            "Requirement already satisfied: keras-preprocessing>=1.0.5 in /usr/local/lib/python3.7/dist-packages (from keras==2.2.4) (1.1.2)\n",
            "Requirement already satisfied: pyyaml in /usr/local/lib/python3.7/dist-packages (from keras==2.2.4) (3.13)\n",
            "Requirement already satisfied: numpy>=1.9.1 in /usr/local/lib/python3.7/dist-packages (from keras==2.2.4) (1.19.5)\n",
            "Requirement already satisfied: six>=1.9.0 in /usr/local/lib/python3.7/dist-packages (from keras==2.2.4) (1.15.0)\n",
            "Requirement already satisfied: cached-property in /usr/local/lib/python3.7/dist-packages (from h5py->keras==2.2.4) (1.5.2)\n",
            "Installing collected packages: keras\n",
            "  Attempting uninstall: keras\n",
            "    Found existing installation: keras 2.7.0\n",
            "    Uninstalling keras-2.7.0:\n",
            "      Successfully uninstalled keras-2.7.0\n",
            "Successfully installed keras-2.2.4\n"
          ]
        }
      ]
    },
    {
      "cell_type": "code",
      "metadata": {
        "colab": {
          "base_uri": "https://localhost:8080/"
        },
        "id": "J-gVUXkndm-s",
        "outputId": "0cffefcd-ef31-4c32-e879-96673ae7f1e4"
      },
      "source": [
        "from google.colab import drive\n",
        "drive.mount('/content/drive')"
      ],
      "execution_count": null,
      "outputs": [
        {
          "output_type": "stream",
          "name": "stdout",
          "text": [
            "Mounted at /content/drive\n"
          ]
        }
      ]
    },
    {
      "cell_type": "code",
      "metadata": {
        "id": "C2jY9YHDm3WK"
      },
      "source": [
        "data = pd.read_csv(\"/content/drive/My Drive/NLP Project/Reviews.csv\", nrows=50000)"
      ],
      "execution_count": null,
      "outputs": []
    },
    {
      "cell_type": "code",
      "metadata": {
        "colab": {
          "base_uri": "https://localhost:8080/",
          "height": 695
        },
        "id": "YozOxnkpqTst",
        "outputId": "179a5874-0116-499f-e34d-ee1d4506dc73"
      },
      "source": [
        "data.head()"
      ],
      "execution_count": null,
      "outputs": [
        {
          "output_type": "execute_result",
          "data": {
            "text/html": [
              "<div>\n",
              "<style scoped>\n",
              "    .dataframe tbody tr th:only-of-type {\n",
              "        vertical-align: middle;\n",
              "    }\n",
              "\n",
              "    .dataframe tbody tr th {\n",
              "        vertical-align: top;\n",
              "    }\n",
              "\n",
              "    .dataframe thead th {\n",
              "        text-align: right;\n",
              "    }\n",
              "</style>\n",
              "<table border=\"1\" class=\"dataframe\">\n",
              "  <thead>\n",
              "    <tr style=\"text-align: right;\">\n",
              "      <th></th>\n",
              "      <th>Id</th>\n",
              "      <th>ProductId</th>\n",
              "      <th>UserId</th>\n",
              "      <th>ProfileName</th>\n",
              "      <th>HelpfulnessNumerator</th>\n",
              "      <th>HelpfulnessDenominator</th>\n",
              "      <th>Score</th>\n",
              "      <th>Time</th>\n",
              "      <th>Summary</th>\n",
              "      <th>Text</th>\n",
              "    </tr>\n",
              "  </thead>\n",
              "  <tbody>\n",
              "    <tr>\n",
              "      <th>0</th>\n",
              "      <td>1</td>\n",
              "      <td>B001E4KFG0</td>\n",
              "      <td>A3SGXH7AUHU8GW</td>\n",
              "      <td>delmartian</td>\n",
              "      <td>1</td>\n",
              "      <td>1</td>\n",
              "      <td>5</td>\n",
              "      <td>1303862400</td>\n",
              "      <td>Good Quality Dog Food</td>\n",
              "      <td>I have bought several of the Vitality canned d...</td>\n",
              "    </tr>\n",
              "    <tr>\n",
              "      <th>1</th>\n",
              "      <td>2</td>\n",
              "      <td>B00813GRG4</td>\n",
              "      <td>A1D87F6ZCVE5NK</td>\n",
              "      <td>dll pa</td>\n",
              "      <td>0</td>\n",
              "      <td>0</td>\n",
              "      <td>1</td>\n",
              "      <td>1346976000</td>\n",
              "      <td>Not as Advertised</td>\n",
              "      <td>Product arrived labeled as Jumbo Salted Peanut...</td>\n",
              "    </tr>\n",
              "    <tr>\n",
              "      <th>2</th>\n",
              "      <td>3</td>\n",
              "      <td>B000LQOCH0</td>\n",
              "      <td>ABXLMWJIXXAIN</td>\n",
              "      <td>Natalia Corres \"Natalia Corres\"</td>\n",
              "      <td>1</td>\n",
              "      <td>1</td>\n",
              "      <td>4</td>\n",
              "      <td>1219017600</td>\n",
              "      <td>\"Delight\" says it all</td>\n",
              "      <td>This is a confection that has been around a fe...</td>\n",
              "    </tr>\n",
              "    <tr>\n",
              "      <th>3</th>\n",
              "      <td>4</td>\n",
              "      <td>B000UA0QIQ</td>\n",
              "      <td>A395BORC6FGVXV</td>\n",
              "      <td>Karl</td>\n",
              "      <td>3</td>\n",
              "      <td>3</td>\n",
              "      <td>2</td>\n",
              "      <td>1307923200</td>\n",
              "      <td>Cough Medicine</td>\n",
              "      <td>If you are looking for the secret ingredient i...</td>\n",
              "    </tr>\n",
              "    <tr>\n",
              "      <th>4</th>\n",
              "      <td>5</td>\n",
              "      <td>B006K2ZZ7K</td>\n",
              "      <td>A1UQRSCLF8GW1T</td>\n",
              "      <td>Michael D. Bigham \"M. Wassir\"</td>\n",
              "      <td>0</td>\n",
              "      <td>0</td>\n",
              "      <td>5</td>\n",
              "      <td>1350777600</td>\n",
              "      <td>Great taffy</td>\n",
              "      <td>Great taffy at a great price.  There was a wid...</td>\n",
              "    </tr>\n",
              "  </tbody>\n",
              "</table>\n",
              "</div>"
            ],
            "text/plain": [
              "   Id  ...                                               Text\n",
              "0   1  ...  I have bought several of the Vitality canned d...\n",
              "1   2  ...  Product arrived labeled as Jumbo Salted Peanut...\n",
              "2   3  ...  This is a confection that has been around a fe...\n",
              "3   4  ...  If you are looking for the secret ingredient i...\n",
              "4   5  ...  Great taffy at a great price.  There was a wid...\n",
              "\n",
              "[5 rows x 10 columns]"
            ]
          },
          "metadata": {},
          "execution_count": 4
        }
      ]
    },
    {
      "cell_type": "code",
      "metadata": {
        "colab": {
          "base_uri": "https://localhost:8080/"
        },
        "id": "t1jJKpGkq-sq",
        "outputId": "107a99d5-3309-42ee-e4b7-a672758dac00"
      },
      "source": [
        "data.shape"
      ],
      "execution_count": null,
      "outputs": [
        {
          "output_type": "execute_result",
          "data": {
            "text/plain": [
              "(50000, 10)"
            ]
          },
          "metadata": {},
          "execution_count": 5
        }
      ]
    },
    {
      "cell_type": "code",
      "metadata": {
        "colab": {
          "base_uri": "https://localhost:8080/"
        },
        "id": "b495zw_BrCdz",
        "outputId": "65c9ecc4-ce15-4d44-869b-582aca0985c6"
      },
      "source": [
        "data.columns"
      ],
      "execution_count": null,
      "outputs": [
        {
          "output_type": "execute_result",
          "data": {
            "text/plain": [
              "Index(['Id', 'ProductId', 'UserId', 'ProfileName', 'HelpfulnessNumerator',\n",
              "       'HelpfulnessDenominator', 'Score', 'Time', 'Summary', 'Text'],\n",
              "      dtype='object')"
            ]
          },
          "metadata": {},
          "execution_count": 6
        }
      ]
    },
    {
      "cell_type": "code",
      "metadata": {
        "colab": {
          "base_uri": "https://localhost:8080/"
        },
        "id": "_0RDnY4OrFo0",
        "outputId": "4695b537-f918-4438-f244-574beec47ed5"
      },
      "source": [
        "data.isnull().sum()"
      ],
      "execution_count": null,
      "outputs": [
        {
          "output_type": "execute_result",
          "data": {
            "text/plain": [
              "Id                        0\n",
              "ProductId                 0\n",
              "UserId                    0\n",
              "ProfileName               3\n",
              "HelpfulnessNumerator      0\n",
              "HelpfulnessDenominator    0\n",
              "Score                     0\n",
              "Time                      0\n",
              "Summary                   2\n",
              "Text                      0\n",
              "dtype: int64"
            ]
          },
          "metadata": {},
          "execution_count": 7
        }
      ]
    },
    {
      "cell_type": "code",
      "metadata": {
        "colab": {
          "base_uri": "https://localhost:8080/"
        },
        "id": "Kv72J3HtrXnO",
        "outputId": "b4a03c68-d02a-45c6-d41e-f48a3311b6fb"
      },
      "source": [
        "data.info()"
      ],
      "execution_count": null,
      "outputs": [
        {
          "output_type": "stream",
          "name": "stdout",
          "text": [
            "<class 'pandas.core.frame.DataFrame'>\n",
            "RangeIndex: 50000 entries, 0 to 49999\n",
            "Data columns (total 10 columns):\n",
            " #   Column                  Non-Null Count  Dtype \n",
            "---  ------                  --------------  ----- \n",
            " 0   Id                      50000 non-null  int64 \n",
            " 1   ProductId               50000 non-null  object\n",
            " 2   UserId                  50000 non-null  object\n",
            " 3   ProfileName             49997 non-null  object\n",
            " 4   HelpfulnessNumerator    50000 non-null  int64 \n",
            " 5   HelpfulnessDenominator  50000 non-null  int64 \n",
            " 6   Score                   50000 non-null  int64 \n",
            " 7   Time                    50000 non-null  int64 \n",
            " 8   Summary                 49998 non-null  object\n",
            " 9   Text                    50000 non-null  object\n",
            "dtypes: int64(5), object(5)\n",
            "memory usage: 3.8+ MB\n"
          ]
        }
      ]
    },
    {
      "cell_type": "code",
      "metadata": {
        "id": "gBo_SdS9rbe6"
      },
      "source": [
        "df = data.drop(['Id', 'ProductId', 'UserId', 'ProfileName', 'HelpfulnessNumerator', 'HelpfulnessDenominator', 'Score', 'Time'], axis = 1)\n",
        "df.rename(columns={'Text': 'Review'}, inplace = True)"
      ],
      "execution_count": null,
      "outputs": []
    },
    {
      "cell_type": "code",
      "metadata": {
        "id": "rOIaLYbJt4Kj"
      },
      "source": [
        "column_titles = [\"Review\", \"Summary\"]\n",
        "df = df.reindex(columns = column_titles)"
      ],
      "execution_count": null,
      "outputs": []
    },
    {
      "cell_type": "code",
      "metadata": {
        "id": "pXcNO7f6t52V"
      },
      "source": [
        "df.drop_duplicates(subset = ['Review'], inplace = True) \n",
        "df.dropna(axis = 0, inplace = True) "
      ],
      "execution_count": null,
      "outputs": []
    },
    {
      "cell_type": "code",
      "metadata": {
        "colab": {
          "base_uri": "https://localhost:8080/",
          "height": 206
        },
        "id": "4ouRNIy2sELD",
        "outputId": "078e94e3-188b-44ce-9933-c2c2263447df"
      },
      "source": [
        "df.head()"
      ],
      "execution_count": null,
      "outputs": [
        {
          "output_type": "execute_result",
          "data": {
            "text/html": [
              "<div>\n",
              "<style scoped>\n",
              "    .dataframe tbody tr th:only-of-type {\n",
              "        vertical-align: middle;\n",
              "    }\n",
              "\n",
              "    .dataframe tbody tr th {\n",
              "        vertical-align: top;\n",
              "    }\n",
              "\n",
              "    .dataframe thead th {\n",
              "        text-align: right;\n",
              "    }\n",
              "</style>\n",
              "<table border=\"1\" class=\"dataframe\">\n",
              "  <thead>\n",
              "    <tr style=\"text-align: right;\">\n",
              "      <th></th>\n",
              "      <th>Review</th>\n",
              "      <th>Summary</th>\n",
              "    </tr>\n",
              "  </thead>\n",
              "  <tbody>\n",
              "    <tr>\n",
              "      <th>0</th>\n",
              "      <td>I have bought several of the Vitality canned d...</td>\n",
              "      <td>Good Quality Dog Food</td>\n",
              "    </tr>\n",
              "    <tr>\n",
              "      <th>1</th>\n",
              "      <td>Product arrived labeled as Jumbo Salted Peanut...</td>\n",
              "      <td>Not as Advertised</td>\n",
              "    </tr>\n",
              "    <tr>\n",
              "      <th>2</th>\n",
              "      <td>This is a confection that has been around a fe...</td>\n",
              "      <td>\"Delight\" says it all</td>\n",
              "    </tr>\n",
              "    <tr>\n",
              "      <th>3</th>\n",
              "      <td>If you are looking for the secret ingredient i...</td>\n",
              "      <td>Cough Medicine</td>\n",
              "    </tr>\n",
              "    <tr>\n",
              "      <th>4</th>\n",
              "      <td>Great taffy at a great price.  There was a wid...</td>\n",
              "      <td>Great taffy</td>\n",
              "    </tr>\n",
              "  </tbody>\n",
              "</table>\n",
              "</div>"
            ],
            "text/plain": [
              "                                              Review                Summary\n",
              "0  I have bought several of the Vitality canned d...  Good Quality Dog Food\n",
              "1  Product arrived labeled as Jumbo Salted Peanut...      Not as Advertised\n",
              "2  This is a confection that has been around a fe...  \"Delight\" says it all\n",
              "3  If you are looking for the secret ingredient i...         Cough Medicine\n",
              "4  Great taffy at a great price.  There was a wid...            Great taffy"
            ]
          },
          "metadata": {},
          "execution_count": 12
        }
      ]
    },
    {
      "cell_type": "code",
      "metadata": {
        "colab": {
          "base_uri": "https://localhost:8080/"
        },
        "id": "kKybRAFtulyi",
        "outputId": "705bd23a-cffb-4ad6-b1c3-fbfae6bd50b1"
      },
      "source": [
        "import nltk\n",
        "from nltk.corpus import stopwords\n",
        "nltk.download('stopwords')\n",
        "stop_words = stopwords.words('english') "
      ],
      "execution_count": null,
      "outputs": [
        {
          "output_type": "stream",
          "name": "stdout",
          "text": [
            "[nltk_data] Downloading package stopwords to /root/nltk_data...\n",
            "[nltk_data]   Unzipping corpora/stopwords.zip.\n"
          ]
        }
      ]
    },
    {
      "cell_type": "code",
      "metadata": {
        "id": "-mWf_aokqzgB"
      },
      "source": [
        "contraction_map = {\n",
        " \"ain't\": \"is not\", \n",
        " \"aren't\": \"are not\",\n",
        " \"can't\": \"cannot\", \n",
        " \"'cause\": \"because\",\n",
        " \"could've\": \"could have\",\n",
        " \"couldn't\": \"could not\",\n",
        " \"didn't\": \"did not\",  \n",
        " \"doesn't\": \"does not\", \n",
        " \"don't\": \"do not\", \n",
        " \"hadn't\": \"had not\", \n",
        " \"hasn't\": \"has not\", \n",
        " \"haven't\": \"have not\",\n",
        " \"he'd\": \"he would\",\n",
        " \"he'll\": \"he will\", \n",
        " \"he's\": \"he is\", \n",
        " \"how'd\": \"how did\", \n",
        " \"how'd'y\": \"how do you\",\n",
        " \"how'll\": \"how will\", \n",
        " \"how's\": \"how is\",                         \n",
        " \"I'd\": \"I would\", \n",
        " \"I'd've\": \"I would have\", \n",
        " \"I'll\": \"I will\", \n",
        " \"I'll've\": \"I will have\",\n",
        " \"I'm\": \"I am\", \n",
        " \"I've\": \"I have\", \n",
        " \"i'd\": \"i would\",\n",
        " \"i'd've\": \"i would have\", \n",
        " \"i'll\": \"i will\", \n",
        " \"i'll've\": \"i will have\",\n",
        " \"i'm\": \"i am\", \n",
        " \"i've\": \"i have\", \n",
        " \"isn't\": \"is not\", \n",
        " \"it'd\": \"it would\",\n",
        " \"it'd've\": \"it would have\", \n",
        " \"it'll\": \"it will\", \n",
        " \"it'll've\": \"it will have\",\n",
        " \"it's\": \"it is\", \n",
        " \"let's\": \"let us\", \n",
        " \"ma'am\": \"madam\",\n",
        " \"mayn't\": \"may not\", \n",
        " \"might've\": \"might have\",\n",
        " \"mightn't\": \"might not\",\n",
        " \"mightn't've\": \"might not have\", \n",
        " \"must've\": \"must have\",\n",
        " \"mustn't\": \"must not\", \n",
        " \"mustn't've\": \"must not have\", \n",
        " \"needn't\": \"need not\", \n",
        " \"needn't've\": \"need not have\",\n",
        " \"o'clock\": \"of the clock\",\n",
        " \"oughtn't\": \"ought not\", \n",
        " \"oughtn't've\": \"ought not have\", \n",
        " \"shan't\": \"shall not\", \n",
        " \"sha'n't\": \"shall not\", \n",
        " \"shan't've\": \"shall not have\",\n",
        " \"she'd\": \"she would\", \n",
        " \"she'd've\": \"she would have\", \n",
        " \"she'll\": \"she will\", \n",
        " \"she'll've\": \"she will have\", \n",
        " \"she's\": \"she is\",\n",
        " \"should've\": \"should have\", \n",
        " \"shouldn't\": \"should not\", \n",
        " \"shouldn't've\": \"should not have\", \n",
        " \"so've\": \"so have\",\n",
        " \"so's\": \"so as\",\n",
        " \"this's\": \"this is\",\n",
        " \"that'd\": \"that would\", \n",
        " \"that'd've\": \"that would have\", \n",
        " \"that's\": \"that is\", \n",
        " \"there'd\": \"there would\",\n",
        " \"there'd've\": \"there would have\", \n",
        " \"there's\": \"there is\", \n",
        " \"here's\": \"here is\",\n",
        " \"they'd\": \"they would\", \n",
        " \"they'd've\": \"they would have\",\n",
        " \"they'll\": \"they will\", \n",
        " \"they'll've\": \"they will have\", \n",
        " \"they're\": \"they are\", \n",
        " \"they've\": \"they have\", \n",
        " \"to've\": \"to have\",\n",
        " \"wasn't\": \"was not\", \n",
        " \"we'd\": \"we would\", \n",
        " \"we'd've\": \"we would have\", \n",
        " \"we'll\": \"we will\", \n",
        " \"we'll've\": \"we will have\", \n",
        " \"we're\": \"we are\", \n",
        " \"we've\": \"we have\", \n",
        " \"weren't\": \"were not\", \n",
        " \"what'll\": \"what will\", \n",
        " \"what'll've\": \"what will have\", \n",
        " \"what're\": \"what are\",\n",
        " \"what's\": \"what is\", \n",
        " \"what've\": \"what have\", \n",
        " \"when's\": \"when is\",\n",
        " \"when've\": \"when have\", \n",
        " \"where'd\": \"where did\", \n",
        " \"where's\": \"where is\",\n",
        " \"where've\": \"where have\", \n",
        " \"who'll\": \"who will\", \n",
        " \"who'll've\": \"who will have\", \n",
        " \"who's\": \"who is\", \n",
        " \"who've\": \"who have\",\n",
        " \"why's\": \"why is\", \n",
        " \"why've\": \"why have\", \n",
        " \"will've\": \"will have\", \n",
        " \"won't\": \"will not\", \n",
        " \"won't've\": \"will not have\",\n",
        " \"would've\": \"would have\", \n",
        " \"wouldn't\": \"would not\", \n",
        " \"wouldn't've\": \"would not have\", \n",
        " \"y'all\": \"you all\",\n",
        " \"y'all'd\": \"you all would\",\n",
        " \"y'all'd've\": \"you all would have\",\n",
        " \"y'all're\": \"you all are\",\n",
        " \"y'all've\": \"you all have\",\n",
        " \"you'd\": \"you would\", \n",
        " \"you'd've\": \"you would have\", \n",
        " \"you'll\": \"you will\", \n",
        " \"you'll've\": \"you will have\",\n",
        " \"you're\": \"you are\", \n",
        " \"you've\": \"you have\" }"
      ],
      "execution_count": null,
      "outputs": []
    },
    {
      "cell_type": "code",
      "metadata": {
        "id": "PDx79k2d02VU"
      },
      "source": [
        "import re\n",
        "from bs4 import BeautifulSoup\n",
        "\n",
        "def make_lowercase(text):\n",
        "  return text.lower()\n",
        "\n",
        "def remove_HTML(text):\n",
        "  return BeautifulSoup(text, 'lxml').text\n",
        "\n",
        "def map_contractions(text):\n",
        "  return ' '.join([contraction_map[word] if word in contraction_map else word for word in text.split(\" \")])\n",
        "  \n",
        "def remove_extras(text):\n",
        "  text = re.sub('\"', '', text)\n",
        "  text = re.sub(r\"'s\\b\", \"\", text)\n",
        "  text = re.sub(r'\\([^)]*\\)', '', text)\n",
        "  text = re.sub(\"[^a-zA-Z]\", \" \", text) \n",
        "  text = re.sub('[m]{2,}', 'mm', text)\n",
        "  return text\n",
        "\n",
        "def remove_stopwords(text, type):\n",
        "  if type == 0:\n",
        "    tokens = [word for word in text.split() if not word in stop_words]\n",
        "  else:\n",
        "    tokens = text.split()\n",
        "  return tokens\n",
        "\n",
        "def remove_shortwords(tokens):\n",
        "  long_words = []\n",
        "  for token in tokens:\n",
        "    if len(token) > 1:\n",
        "      long_words.append(token)\n",
        "  return (\" \".join(long_words)).strip()"
      ],
      "execution_count": null,
      "outputs": []
    },
    {
      "cell_type": "code",
      "metadata": {
        "id": "L8ZodJyAv41C"
      },
      "source": [
        "processed_reviews = []\n",
        "processed_summaries = []\n",
        "\n",
        "for review, summary in zip(df['Review'], df['Summary']):\n",
        "  review, summary = make_lowercase(review), make_lowercase(summary)\n",
        "  review, summary = remove_HTML(review), remove_HTML(summary)\n",
        "  review, summary = map_contractions(review), map_contractions(summary)\n",
        "  review, summary = remove_extras(review), remove_extras(summary)\n",
        "  review, summary = remove_stopwords(review, 0), remove_stopwords(summary, 1)\n",
        "  review, summary = remove_shortwords(review), remove_shortwords(summary)\n",
        "  processed_reviews.append(review)\n",
        "  processed_summaries.append(summary)"
      ],
      "execution_count": null,
      "outputs": []
    },
    {
      "cell_type": "code",
      "metadata": {
        "colab": {
          "base_uri": "https://localhost:8080/"
        },
        "id": "iayjM8xtwcHm",
        "outputId": "295dd79e-da99-4048-aa85-7b27b85ad436"
      },
      "source": [
        "processed_reviews[:10]"
      ],
      "execution_count": null,
      "outputs": [
        {
          "output_type": "execute_result",
          "data": {
            "text/plain": [
              "['bought several vitality canned dog food products found good quality product looks like stew processed meat smells better labrador finicky appreciates product better',\n",
              " 'product arrived labeled jumbo salted peanuts peanuts actually small sized unsalted sure error vendor intended represent product jumbo',\n",
              " 'confection around centuries light pillowy citrus gelatin nuts case filberts cut tiny squares liberally coated powdered sugar tiny mouthful heaven chewy flavorful highly recommend yummy treat familiar story lewis lion witch wardrobe treat seduces edmund selling brother sisters witch',\n",
              " 'looking secret ingredient robitussin believe found got addition root beer extract ordered made cherry soda flavor medicinal',\n",
              " 'great taffy great price wide assortment yummy taffy delivery quick taffy lover deal',\n",
              " 'got wild hair taffy ordered five pound bag taffy enjoyable many flavors watermelon root beer melon peppermint grape etc complaint bit much red black licorice flavored pieces kids husband lasted two weeks would recommend brand taffy delightful treat',\n",
              " 'saltwater taffy great flavors soft chewy candy individually wrapped well none candies stuck together happen expensive version fralinger would highly recommend candy served beach themed party everyone loved',\n",
              " 'taffy good soft chewy flavors amazing would definitely recommend buying satisfying',\n",
              " 'right mostly sprouting cats eat grass love rotate around wheatgrass rye',\n",
              " 'healthy dog food good digestion also good small puppies dog eats required amount every feeding']"
            ]
          },
          "metadata": {},
          "execution_count": 17
        }
      ]
    },
    {
      "cell_type": "code",
      "metadata": {
        "colab": {
          "base_uri": "https://localhost:8080/"
        },
        "id": "SD4u9K_QwguK",
        "outputId": "fb9c3f43-cfce-452a-83ae-688aab19a5b1"
      },
      "source": [
        "processed_summaries[:10]"
      ],
      "execution_count": null,
      "outputs": [
        {
          "output_type": "execute_result",
          "data": {
            "text/plain": [
              "['good quality dog food',\n",
              " 'not as advertised',\n",
              " 'delight says it all',\n",
              " 'cough medicine',\n",
              " 'great taffy',\n",
              " 'nice taffy',\n",
              " 'great just as good as the expensive brands',\n",
              " 'wonderful tasty taffy',\n",
              " 'yay barley',\n",
              " 'healthy dog food']"
            ]
          },
          "metadata": {},
          "execution_count": 18
        }
      ]
    },
    {
      "cell_type": "code",
      "metadata": {
        "id": "IKVhwxIDwqXL"
      },
      "source": [
        "df['Review'] = processed_reviews\n",
        "df['Summary'] = processed_summaries"
      ],
      "execution_count": null,
      "outputs": []
    },
    {
      "cell_type": "code",
      "metadata": {
        "id": "9lCdRyR4w2pB"
      },
      "source": [
        "df.replace('', np.nan, inplace = True)\n",
        "df.dropna(axis = 0, inplace = True)"
      ],
      "execution_count": null,
      "outputs": []
    },
    {
      "cell_type": "code",
      "metadata": {
        "id": "A6zpRyV0w-hV"
      },
      "source": [
        "review_length = []\n",
        "summary_length = []\n",
        "\n",
        "for review, summary in zip(df['Review'], df['Summary']):\n",
        "  review_length.append(len(review.split()))\n",
        "  summary_length.append(len(summary.split()))"
      ],
      "execution_count": null,
      "outputs": []
    },
    {
      "cell_type": "code",
      "metadata": {
        "colab": {
          "base_uri": "https://localhost:8080/",
          "height": 424
        },
        "id": "Bil83nrVxivv",
        "outputId": "a7c67752-7114-4f01-a1a3-b4afe45beea5"
      },
      "source": [
        "import matplotlib.pyplot as plt\n",
        "\n",
        "plt.figure(figsize = (18, 7))\n",
        "plt.subplot(1, 2, 1)\n",
        "plt.title('Reviews', fontsize = 18)\n",
        "plt.xlabel('No. of Words', fontsize = 14)\n",
        "plt.ylabel('No. of Reviews', fontsize = 14)\n",
        "plt.hist(review_length, bins = 30)\n",
        "\n",
        "plt.subplot(1, 2, 2)\n",
        "plt.title('Summaries', fontsize = 18)\n",
        "plt.xlabel('No. of Words', fontsize = 14)\n",
        "plt.ylabel('No. of Summaries', fontsize = 14)\n",
        "plt.hist(summary_length, bins = 30)\n",
        "plt.show()"
      ],
      "execution_count": null,
      "outputs": [
        {
          "output_type": "display_data",
          "data": {
            "image/png": "[encoded data removed]",
            "text/plain": [
              "<Figure size 1296x504 with 2 Axes>"
            ]
          },
          "metadata": {
            "needs_background": "light"
          }
        }
      ]
    },
    {
      "cell_type": "code",
      "metadata": {
        "colab": {
          "base_uri": "https://localhost:8080/"
        },
        "id": "eOMW5Ljwx_0P",
        "outputId": "ba723bb5-ceb6-4c43-80c6-3f83d7da8b23"
      },
      "source": [
        "review_count = 0\n",
        "summary_count = 0\n",
        "\n",
        "for review, summary in zip(df['Review'], df['Summary']):\n",
        "  if len(review.split()) <= 60:\n",
        "    review_count = review_count + 1\n",
        "  if len(summary.split()) <= 8:\n",
        "    summary_count = summary_count + 1\n",
        "\n",
        "print(\"% of reviews having less than 80 words: \", (review_count / len(df['Review'])) * 100)\n",
        "print(\"% of summaries having less than 8 words: \", (summary_count / len(df['Summary'])) * 100)"
      ],
      "execution_count": null,
      "outputs": [
        {
          "output_type": "stream",
          "name": "stdout",
          "text": [
            "% of reviews having less than 80 words:  84.4422806448123\n",
            "% of summaries having less than 8 words:  94.38926755382452\n"
          ]
        }
      ]
    },
    {
      "cell_type": "code",
      "metadata": {
        "id": "_qCJlbgIzUm8"
      },
      "source": [
        "max_review_length = 60\n",
        "max_summary_length = 8"
      ],
      "execution_count": null,
      "outputs": []
    },
    {
      "cell_type": "code",
      "metadata": {
        "id": "zGh2BnZlyWqc"
      },
      "source": [
        "reviews = np.array(df['Review'])\n",
        "summaries = np.array(df['Summary'])\n",
        "\n",
        "short_reviews = []\n",
        "short_summaries = []\n",
        "\n",
        "for index in range(len(reviews)):\n",
        "  if len(reviews[index].split()) <= max_review_length and len(summaries[index].split()) <= max_summary_length:\n",
        "    short_reviews.append(reviews[index])\n",
        "    short_summaries.append(summaries[index])"
      ],
      "execution_count": null,
      "outputs": []
    },
    {
      "cell_type": "code",
      "metadata": {
        "id": "Oy1rgz5v0b57"
      },
      "source": [
        "df = pd.DataFrame({'Review': short_reviews, 'Summary': short_summaries})\n",
        "df['Summary'] = df['Summary'].apply(lambda summary: 'sumstart ' + summary + ' sumend')"
      ],
      "execution_count": null,
      "outputs": []
    },
    {
      "cell_type": "code",
      "metadata": {
        "id": "a7DGXkqY03qH"
      },
      "source": [
        "from sklearn.model_selection import train_test_split\n",
        "X_train, X_test, y_train, y_test = train_test_split(np.array(df['Review']), np.array(df['Summary']), test_size = 0.1, random_state = 10, shuffle = True)"
      ],
      "execution_count": null,
      "outputs": []
    },
    {
      "cell_type": "code",
      "metadata": {
        "id": "ZXEiycSj2Uwk"
      },
      "source": [
        "from keras_preprocessing.text import Tokenizer\n",
        "from keras_preprocessing.sequence import pad_sequences\n",
        "\n",
        "X_tokenizer = Tokenizer()\n",
        "X_tokenizer.fit_on_texts(list(X_train))"
      ],
      "execution_count": null,
      "outputs": []
    },
    {
      "cell_type": "code",
      "metadata": {
        "id": "VWjhLkcg2pFe"
      },
      "source": [
        "review_rare_threshold = 4\n",
        "\n",
        "review_rare_words = 0\n",
        "review_total_words = 0\n",
        "review_rare_frequency = 0\n",
        "review_total_frequency = 0\n",
        "\n",
        "for frequency in X_tokenizer.word_counts.values():\n",
        "  review_total_words = review_total_words + 1\n",
        "  review_total_frequency = review_total_frequency + frequency\n",
        "  if (frequency < review_rare_threshold):\n",
        "    review_rare_words = review_rare_words + 1\n",
        "    review_rare_frequency = review_rare_frequency + frequency"
      ],
      "execution_count": null,
      "outputs": []
    },
    {
      "cell_type": "code",
      "metadata": {
        "colab": {
          "base_uri": "https://localhost:8080/"
        },
        "id": "sX45zqZc31Tc",
        "outputId": "00d432b6-dc06-4988-c74c-4b6455453e5f"
      },
      "source": [
        "print(\"% of rare words in vocabulary:\", (review_rare_words/review_total_words) * 100)\n",
        "print(\"Total coverage of rare words:\", (review_rare_frequency/review_total_frequency) * 100)"
      ],
      "execution_count": null,
      "outputs": [
        {
          "output_type": "stream",
          "name": "stdout",
          "text": [
            "% of rare words in vocabulary: 64.55237810796685\n",
            "Total coverage of rare words: 2.7346294846039476\n"
          ]
        }
      ]
    },
    {
      "cell_type": "code",
      "metadata": {
        "colab": {
          "base_uri": "https://localhost:8080/"
        },
        "id": "3UhBL3Fs4YMJ",
        "outputId": "a8dd9223-bfc8-43bf-9a38-27225de7250b"
      },
      "source": [
        "review_common_words = review_total_words - review_rare_words\n",
        "\n",
        "X_tokenizer = Tokenizer(num_words = review_common_words)\n",
        "X_tokenizer.fit_on_texts(list(X_train))\n",
        "\n",
        "X_train_sequence = X_tokenizer.texts_to_sequences(X_train)\n",
        "X_test_sequence = X_tokenizer.texts_to_sequences(X_test)\n",
        "\n",
        "X_train = pad_sequences(X_train_sequence, maxlen = max_review_length, padding = 'post')\n",
        "X_test = pad_sequences(X_test_sequence, maxlen = max_review_length, padding = 'post')\n",
        "\n",
        "X_vocabulary_size = X_tokenizer.num_words + 1\n",
        "print(\"Size of Review Vocabulary: \", X_vocabulary_size)"
      ],
      "execution_count": null,
      "outputs": [
        {
          "output_type": "stream",
          "name": "stdout",
          "text": [
            "Size of Review Vocabulary:  9496\n"
          ]
        }
      ]
    },
    {
      "cell_type": "code",
      "metadata": {
        "id": "7-vI0Ig7506M"
      },
      "source": [
        "y_tokenizer = Tokenizer()   \n",
        "y_tokenizer.fit_on_texts(list(y_train))"
      ],
      "execution_count": null,
      "outputs": []
    },
    {
      "cell_type": "code",
      "metadata": {
        "id": "6asM1CTj5_bK"
      },
      "source": [
        "summary_rare_threshold = 6\n",
        "\n",
        "summary_rare_words = 0\n",
        "summary_total_words = 0\n",
        "summary_rare_frequency = 0\n",
        "summary_total_frequency = 0\n",
        "\n",
        "for frequency in y_tokenizer.word_counts.values():\n",
        "  summary_total_words = summary_total_words + 1\n",
        "  summary_total_frequency = summary_total_frequency + frequency\n",
        "  if (frequency < summary_rare_threshold):\n",
        "    summary_rare_words = summary_rare_words + 1\n",
        "    summary_rare_frequency = summary_rare_frequency + frequency"
      ],
      "execution_count": null,
      "outputs": []
    },
    {
      "cell_type": "code",
      "metadata": {
        "colab": {
          "base_uri": "https://localhost:8080/"
        },
        "id": "N8vnd7BO6bVG",
        "outputId": "9f69b208-b415-4a1c-f531-59c5fe51d544"
      },
      "source": [
        "print(\"% of rare words in vocabulary:\", (summary_rare_words/summary_total_words) * 100)\n",
        "print(\"Total coverage of rare words:\", (summary_rare_frequency/summary_total_frequency) * 100)"
      ],
      "execution_count": null,
      "outputs": [
        {
          "output_type": "stream",
          "name": "stdout",
          "text": [
            "% of rare words in vocabulary: 78.14729713387351\n",
            "Total coverage of rare words: 5.973890111806115\n"
          ]
        }
      ]
    },
    {
      "cell_type": "code",
      "metadata": {
        "colab": {
          "base_uri": "https://localhost:8080/"
        },
        "id": "tCMOayZv6q8f",
        "outputId": "5fa4d72c-e5db-4b8c-8eed-1b55211ae9bb"
      },
      "source": [
        "summary_common_words = summary_total_words - summary_rare_words\n",
        "\n",
        "y_tokenizer = Tokenizer(num_words = summary_common_words)\n",
        "y_tokenizer.fit_on_texts(list(y_train))\n",
        "\n",
        "y_train_sequence = y_tokenizer.texts_to_sequences(y_train)\n",
        "y_test_sequence = y_tokenizer.texts_to_sequences(y_test)\n",
        "\n",
        "y_train = pad_sequences(y_train_sequence, maxlen = max_summary_length, padding = 'post')\n",
        "y_test = pad_sequences(y_test_sequence, maxlen = max_summary_length, padding = 'post')\n",
        "\n",
        "y_vocabulary_size = y_tokenizer.num_words + 1\n",
        "print(\"Size of Summary Vocabulary: \", y_vocabulary_size)"
      ],
      "execution_count": null,
      "outputs": [
        {
          "output_type": "stream",
          "name": "stdout",
          "text": [
            "Size of Summary Vocabulary:  1808\n"
          ]
        }
      ]
    },
    {
      "cell_type": "code",
      "metadata": {
        "id": "vZD0KBmw7TMD"
      },
      "source": [
        "empty = []\n",
        "for summary in range(len(y_train)):\n",
        "  token_count = 0\n",
        "  for token in y_train[summary]:\n",
        "    if token != 0:\n",
        "      token_count = token_count + 1\n",
        "  if token_count == 2:\n",
        "    empty.append(summary)"
      ],
      "execution_count": null,
      "outputs": []
    },
    {
      "cell_type": "code",
      "metadata": {
        "colab": {
          "base_uri": "https://localhost:8080/"
        },
        "id": "PmmULh0C8BwC",
        "outputId": "b4759edc-7428-4dab-afe8-e56dbb34fa2a"
      },
      "source": [
        "X_train = np.delete(X_train, empty, axis = 0)\n",
        "print(X_train)"
      ],
      "execution_count": null,
      "outputs": [
        {
          "output_type": "stream",
          "name": "stdout",
          "text": [
            "[[ 212   44 4517 ...    0    0    0]\n",
            " [1149 4711   11 ...    0    0    0]\n",
            " [   1 4047    9 ...    0    0    0]\n",
            " ...\n",
            " [  18 1597  636 ...    0    0    0]\n",
            " [1047  100    9 ...    0    0    0]\n",
            " [   1    8  131 ...    0    0    0]]\n"
          ]
        }
      ]
    },
    {
      "cell_type": "code",
      "metadata": {
        "colab": {
          "base_uri": "https://localhost:8080/"
        },
        "id": "60qrlzP-8JfF",
        "outputId": "b7404f4a-5eab-4a1a-b3da-4e254bdaa09c"
      },
      "source": [
        "y_train = np.delete(y_train, empty, axis = 0)\n",
        "print(y_train)"
      ],
      "execution_count": null,
      "outputs": [
        {
          "output_type": "stream",
          "name": "stdout",
          "text": [
            "[[  1  62   2 ...   0   0   0]\n",
            " [  1 503   9 ...   0   0   0]\n",
            " [  1   6  11 ...   0   0   0]\n",
            " ...\n",
            " [  1   3  16 ...  31   2   0]\n",
            " [  1  57 680 ...   0   0   0]\n",
            " [  1  10  15 ...   0   0   0]]\n"
          ]
        }
      ]
    },
    {
      "cell_type": "code",
      "metadata": {
        "id": "0BDx7mOn8WFU"
      },
      "source": [
        "empty = []\n",
        "for summary in range(len(y_test)):\n",
        "  token_count = 0\n",
        "  for token in y_test[summary]:\n",
        "    if token != 0:\n",
        "      token_count = token_count + 1\n",
        "  if token_count == 2:\n",
        "    empty.append(summary)"
      ],
      "execution_count": null,
      "outputs": []
    },
    {
      "cell_type": "code",
      "metadata": {
        "colab": {
          "base_uri": "https://localhost:8080/"
        },
        "id": "_hE_tJqW8gu4",
        "outputId": "beeb52ea-f227-43ff-89ca-8e634be6a1e3"
      },
      "source": [
        "X_test = np.delete(X_test, empty, axis = 0)\n",
        "print(X_test)"
      ],
      "execution_count": null,
      "outputs": [
        {
          "output_type": "stream",
          "name": "stdout",
          "text": [
            "[[  44 1627 4759 ...    0    0    0]\n",
            " [   1    9    5 ...    0    0    0]\n",
            " [   3    5  927 ...    0    0    0]\n",
            " ...\n",
            " [  15   11   23 ...    0    0    0]\n",
            " [ 155 2405 1442 ...    0    0    0]\n",
            " [ 148   46  272 ...    0    0    0]]\n"
          ]
        }
      ]
    },
    {
      "cell_type": "code",
      "metadata": {
        "colab": {
          "base_uri": "https://localhost:8080/"
        },
        "id": "MGOwZk668oFs",
        "outputId": "b1fab72f-a1b4-407e-a998-e52841a8867a"
      },
      "source": [
        "y_test = np.delete(y_test, empty, axis = 0)\n",
        "print(y_test)"
      ],
      "execution_count": null,
      "outputs": [
        {
          "output_type": "stream",
          "name": "stdout",
          "text": [
            "[[   1  146    6 ...    0    0    0]\n",
            " [ 149   48   76 ...   35  107    2]\n",
            " [   1 1108 1223 ...    0    0    0]\n",
            " ...\n",
            " [   1   22    4 ...    0    0    0]\n",
            " [   1   51   71 ...    0    0    0]\n",
            " [   1  254  228 ...   46  331    2]]\n"
          ]
        }
      ]
    },
    {
      "cell_type": "code",
      "metadata": {
        "id": "GcLsWJHdFcxI"
      },
      "source": [
        "from tensorflow.python.framework.ops import disable_eager_execution\n",
        "\n",
        "disable_eager_execution()"
      ],
      "execution_count": null,
      "outputs": []
    },
    {
      "cell_type": "code",
      "metadata": {
        "id": "CklFuDitDGER"
      },
      "source": [
        "from tensorflow.keras.layers import Input, LSTM, Embedding, Dense, Concatenate, TimeDistributed\n",
        "from tensorflow.keras.models import Model"
      ],
      "execution_count": null,
      "outputs": []
    },
    {
      "cell_type": "code",
      "metadata": {
        "id": "3GZqf6S0mASM",
        "colab": {
          "base_uri": "https://localhost:8080/"
        },
        "outputId": "ff474747-d0f1-4ee3-dca1-e8b29f260159"
      },
      "source": [
        "from attention import AttentionLayer\n",
        "from keras import backend as K"
      ],
      "execution_count": null,
      "outputs": [
        {
          "output_type": "stream",
          "name": "stderr",
          "text": [
            "Using TensorFlow backend.\n"
          ]
        }
      ]
    },
    {
      "cell_type": "code",
      "metadata": {
        "colab": {
          "base_uri": "https://localhost:8080/"
        },
        "id": "VhqB0B7_CMJU",
        "outputId": "761cd85d-80f2-4b82-d89d-7327d7a60a1b"
      },
      "source": [
        "latent_dimension = 300\n",
        "embedding_dimension = 100\n",
        "\n",
        "encoder_inputs = Input(shape=(max_review_length,))\n",
        "encoder_embed_layer =  Embedding(X_vocabulary_size, embedding_dimension, trainable=True)\n",
        "encoder_embedding = encoder_embed_layer(encoder_inputs)\n",
        "\n",
        "encoder_lstm1 = LSTM(latent_dimension, return_sequences=True, return_state=True, dropout=0.4, recurrent_dropout=0.4)\n",
        "encoder_output1, state_h1, state_c1 = encoder_lstm1(encoder_embedding)\n",
        "\n",
        "encoder_lstm2 = LSTM(latent_dimension, return_sequences=True, return_state=True, dropout=0.4, recurrent_dropout=0.4)\n",
        "encoder_output2, state_h2, state_c2 = encoder_lstm2(encoder_output1)\n",
        "\n",
        "encoder_lstm3 = LSTM(latent_dimension, return_sequences=True, return_state=True, dropout=0.4, recurrent_dropout=0.4)\n",
        "encoder_outputs, state_h, state_c= encoder_lstm3(encoder_output2)\n",
        "\n",
        "decoder_inputs = Input(shape=(None,))\n",
        "decoder_embed_layer = Embedding(y_vocabulary_size, embedding_dimension, trainable=True)\n",
        "decoder_embedding = decoder_embed_layer(decoder_inputs)\n",
        "\n",
        "decoder_lstm = LSTM(latent_dimension, return_sequences=True, return_state=True, dropout=0.4, recurrent_dropout=0.2)\n",
        "decoder_outputs, decoder_fwd_state, decoder_back_state = decoder_lstm(decoder_embedding, initial_state=[state_h, state_c])\n",
        "\n",
        "attn_layer = AttentionLayer(name='attention_layer')\n",
        "attn_out, attn_states = attn_layer([encoder_outputs, decoder_outputs])\n",
        "\n",
        "decoder_concat_input = Concatenate(axis=-1, name='concat_layer')([decoder_outputs, attn_out])\n",
        "decoder_dense =  TimeDistributed(Dense(y_vocabulary_size, activation='softmax'))\n",
        "decoder_outputs = decoder_dense(decoder_concat_input)\n",
        "\n",
        "model = Model([encoder_inputs, decoder_inputs], decoder_outputs)\n",
        "model.summary() "
      ],
      "execution_count": null,
      "outputs": [
        {
          "output_type": "stream",
          "name": "stdout",
          "text": [
            "WARNING:tensorflow:From /usr/local/lib/python3.7/dist-packages/tensorflow_core/python/keras/initializers.py:119: calling RandomUniform.__init__ (from tensorflow.python.ops.init_ops) with dtype is deprecated and will be removed in a future version.\n",
            "Instructions for updating:\n",
            "Call initializer instance with the dtype argument instead of passing it to the constructor\n",
            "WARNING:tensorflow:From /usr/local/lib/python3.7/dist-packages/tensorflow_core/python/ops/resource_variable_ops.py:1630: calling BaseResourceVariable.__init__ (from tensorflow.python.ops.resource_variable_ops) with constraint is deprecated and will be removed in a future version.\n",
            "Instructions for updating:\n",
            "If using Keras pass *_constraint arguments to layers.\n",
            "Model: \"model\"\n",
            "__________________________________________________________________________________________________\n",
            "Layer (type)                    Output Shape         Param #     Connected to                     \n",
            "==================================================================================================\n",
            "input_1 (InputLayer)            [(None, 60)]         0                                            \n",
            "__________________________________________________________________________________________________\n",
            "embedding (Embedding)           (None, 60, 100)      949600      input_1[0][0]                    \n",
            "__________________________________________________________________________________________________\n",
            "lstm (LSTM)                     [(None, 60, 300), (N 481200      embedding[0][0]                  \n",
            "__________________________________________________________________________________________________\n",
            "input_2 (InputLayer)            [(None, None)]       0                                            \n",
            "__________________________________________________________________________________________________\n",
            "lstm_1 (LSTM)                   [(None, 60, 300), (N 721200      lstm[0][0]                       \n",
            "__________________________________________________________________________________________________\n",
            "embedding_1 (Embedding)         (None, None, 100)    180800      input_2[0][0]                    \n",
            "__________________________________________________________________________________________________\n",
            "lstm_2 (LSTM)                   [(None, 60, 300), (N 721200      lstm_1[0][0]                     \n",
            "__________________________________________________________________________________________________\n",
            "lstm_3 (LSTM)                   [(None, None, 300),  481200      embedding_1[0][0]                \n",
            "                                                                 lstm_2[0][1]                     \n",
            "                                                                 lstm_2[0][2]                     \n",
            "__________________________________________________________________________________________________\n",
            "attention_layer (AttentionLayer ((None, None, 300),  180300      lstm_2[0][0]                     \n",
            "                                                                 lstm_3[0][0]                     \n",
            "__________________________________________________________________________________________________\n",
            "concat_layer (Concatenate)      (None, None, 600)    0           lstm_3[0][0]                     \n",
            "                                                                 attention_layer[0][0]            \n",
            "__________________________________________________________________________________________________\n",
            "time_distributed (TimeDistribut (None, None, 1808)   1086608     concat_layer[0][0]               \n",
            "==================================================================================================\n",
            "Total params: 4,802,108\n",
            "Trainable params: 4,802,108\n",
            "Non-trainable params: 0\n",
            "__________________________________________________________________________________________________\n"
          ]
        }
      ]
    },
    {
      "cell_type": "code",
      "metadata": {
        "id": "JA4Nike9ncD5"
      },
      "source": [
        "model.compile(optimizer = 'rmsprop', loss = 'sparse_categorical_crossentropy', experimental_run_tf_function = False)"
      ],
      "execution_count": null,
      "outputs": []
    },
    {
      "cell_type": "code",
      "metadata": {
        "id": "wRAgsc-dn0BN"
      },
      "source": [
        "from tensorflow.keras.callbacks import EarlyStopping"
      ],
      "execution_count": null,
      "outputs": []
    },
    {
      "cell_type": "code",
      "metadata": {
        "id": "xcdg-CGtnohn"
      },
      "source": [
        "es = EarlyStopping(monitor = 'val_loss', mode = 'min', verbose = 1, patience = 2)"
      ],
      "execution_count": null,
      "outputs": []
    },
    {
      "cell_type": "code",
      "metadata": {
        "colab": {
          "base_uri": "https://localhost:8080/"
        },
        "id": "QwaVF0Ftn624",
        "outputId": "47e70d85-3b47-4cc8-8193-ecfaf2bf4fc7"
      },
      "source": [
        "history = model.fit([X_train, y_train[:, :-1]], y_train.reshape(y_train.shape[0], y_train.shape[1], 1)[:, 1:], epochs = 20, callbacks = [es], batch_size = 128, validation_data=([X_test, y_test[:, :-1]], y_test.reshape(y_test.shape[0], y_test.shape[1], 1)[:, 1:]))"
      ],
      "execution_count": null,
      "outputs": [
        {
          "output_type": "stream",
          "name": "stdout",
          "text": [
            "WARNING:tensorflow:From /usr/local/lib/python3.7/dist-packages/tensorflow_core/python/ops/math_grad.py:1424: where (from tensorflow.python.ops.array_ops) is deprecated and will be removed in a future version.\n",
            "Instructions for updating:\n",
            "Use tf.where in 2.0, which has the same broadcast rule as np.where\n",
            "Train on 32910 samples, validate on 3650 samples\n",
            "Epoch 1/20\n",
            "32910/32910 [==============================] - 1290s 39ms/sample - loss: 2.9989 - val_loss: 2.7259\n",
            "Epoch 2/20\n",
            "32910/32910 [==============================] - 1220s 37ms/sample - loss: 2.6726 - val_loss: 2.5984\n",
            "Epoch 3/20\n",
            "32910/32910 [==============================] - 1216s 37ms/sample - loss: 2.5444 - val_loss: 2.4985\n",
            "Epoch 4/20\n",
            "32910/32910 [==============================] - 1234s 37ms/sample - loss: 2.4252 - val_loss: 2.3862\n",
            "Epoch 5/20\n",
            "32910/32910 [==============================] - 1248s 38ms/sample - loss: 2.3377 - val_loss: 2.3314\n",
            "Epoch 6/20\n",
            "32910/32910 [==============================] - 1255s 38ms/sample - loss: 2.2736 - val_loss: 2.2796\n",
            "Epoch 7/20\n",
            "32910/32910 [==============================] - 1262s 38ms/sample - loss: 2.2216 - val_loss: 2.2593\n",
            "Epoch 8/20\n",
            "32910/32910 [==============================] - 1244s 38ms/sample - loss: 2.1781 - val_loss: 2.2236\n",
            "Epoch 9/20\n",
            "32910/32910 [==============================] - 1276s 39ms/sample - loss: 2.1400 - val_loss: 2.2184\n",
            "Epoch 10/20\n",
            "32910/32910 [==============================] - 1257s 38ms/sample - loss: 2.1055 - val_loss: 2.2008\n",
            "Epoch 11/20\n",
            "32910/32910 [==============================] - 1238s 38ms/sample - loss: 2.0735 - val_loss: 2.1944\n",
            "Epoch 12/20\n",
            "32910/32910 [==============================] - 1234s 38ms/sample - loss: 2.0448 - val_loss: 2.1689\n",
            "Epoch 13/20\n",
            "32910/32910 [==============================] - 1254s 38ms/sample - loss: 2.0175 - val_loss: 2.1670\n",
            "Epoch 14/20\n",
            "32910/32910 [==============================] - 1253s 38ms/sample - loss: 1.9923 - val_loss: 2.1595\n",
            "Epoch 15/20\n",
            "32910/32910 [==============================] - 1339s 41ms/sample - loss: 1.9684 - val_loss: 2.1523\n",
            "Epoch 16/20\n",
            "32910/32910 [==============================] - 1340s 41ms/sample - loss: 1.9445 - val_loss: 2.1504\n",
            "Epoch 17/20\n",
            "30208/32910 [==========================>...] - ETA: 1:46 - loss: 1.9173"
          ]
        }
      ]
    },
    {
      "cell_type": "code",
      "metadata": {
        "id": "VeVQeKttpMLA"
      },
      "source": [
        "plt.plot(history.history['loss'], label = 'train')\n",
        "plt.plot(history.history['val_loss'], label = 'test')\n",
        "plt.legend()\n",
        "plt.show()"
      ],
      "execution_count": null,
      "outputs": []
    },
    {
      "cell_type": "code",
      "metadata": {
        "id": "hKKwF-OIqbjE"
      },
      "source": [
        "reverse_target_word_index = y_tokenizer.index_word\n",
        "reverse_source_word_index = X_tokenizer.index_word\n",
        "target_word_index = y_tokenizer.word_index"
      ],
      "execution_count": null,
      "outputs": []
    },
    {
      "cell_type": "code",
      "metadata": {
        "id": "sSkwdIV8rBFK"
      },
      "source": [
        "encoder_model = Model(inputs = encoder_inputs, outputs = [encoder_outputs, state_h, state_c])\n",
        "\n",
        "decoder_state_input_h = Input(shape = (latent_dimension,))\n",
        "decoder_state_input_c = Input(shape = (latent_dimension,))\n",
        "decoder_hidden_state_input = Input(shape = (max_review_length, latent_dimension))\n",
        "\n",
        "decoder_embedding2 = decoder_embed_layer(decoder_inputs) \n",
        "decoder_outputs2, state_h2, state_c2 = decoder_lstm(decoder_embedding2, initial_state = [decoder_state_input_h, decoder_state_input_c])\n",
        "\n",
        "attn_out_inference, attn_states_inference = attn_layer([decoder_hidden_state_input, decoder_outputs2])\n",
        "decoder_inference_concat = Concatenate(axis = -1, name = 'concat')([decoder_outputs2, attn_out_inference])\n",
        "\n",
        "decoder_outputs2 = decoder_dense(decoder_inference_concat) \n",
        "\n",
        "decoder_model = Model(\n",
        "    [decoder_inputs] + [decoder_hidden_state_input, decoder_state_input_h, decoder_state_input_c],\n",
        "    [decoder_outputs2] + [state_h2, state_c2])"
      ],
      "execution_count": null,
      "outputs": []
    },
    {
      "cell_type": "code",
      "metadata": {
        "id": "gC-igxcIrOYE"
      },
      "source": [
        "def decode_sequence(input_seq):\n",
        "    e_out, e_h, e_c = encoder_model.predict(input_seq)\n",
        "    \n",
        "    target_seq = np.zeros((1, 1))\n",
        "    target_seq[0, 0] = target_word_index['sumstart']\n",
        "\n",
        "    stop_condition = False\n",
        "    decoded_sentence = ''\n",
        "\n",
        "    while not stop_condition:\n",
        "      \n",
        "        output_tokens, h, c = decoder_model.predict([target_seq] + [e_out, e_h, e_c])\n",
        "\n",
        "        sampled_token_index = np.argmax(output_tokens[0, -1, :])\n",
        "        sampled_token = reverse_target_word_index[sampled_token_index]\n",
        "        \n",
        "        if(sampled_token != 'sumend'):\n",
        "            decoded_sentence += ' ' + sampled_token\n",
        "\n",
        "        if (sampled_token == 'sumend' or len(decoded_sentence.split()) >= (max_summary_length - 1)):\n",
        "            stop_condition = True\n",
        "\n",
        "        target_seq = np.zeros((1, 1))\n",
        "        target_seq[0, 0] = sampled_token_index\n",
        "\n",
        "        e_h, e_c = h, c\n",
        "\n",
        "    return decoded_sentence"
      ],
      "execution_count": null,
      "outputs": []
    },
    {
      "cell_type": "code",
      "metadata": {
        "id": "2epmUt0erclc"
      },
      "source": [
        "def seq2summary(input_seq):\n",
        "    newString = ''\n",
        "    for i in input_seq:\n",
        "        if((i != 0 and i != target_word_index['sumstart']) and i != target_word_index['sumend']):\n",
        "            newString = newString + reverse_target_word_index[i] + ' '\n",
        "    return newString\n",
        "\n",
        "def seq2text(input_seq):\n",
        "    newString = ''\n",
        "    for i in input_seq:\n",
        "        if(i != 0):\n",
        "            newString = newString + reverse_source_word_index[i] + ' '\n",
        "    return newString"
      ],
      "execution_count": null,
      "outputs": []
    },
    {
      "cell_type": "code",
      "metadata": {
        "id": "RcoSYSlurgmU"
      },
      "source": [
        "for i in range(0, 100):\n",
        "    print(\"Review:\", seq2text(X_train[i]))\n",
        "    print(\"Original summary:\", seq2summary(y_train[i]))\n",
        "    print(\"Predicted summary:\", decode_sequence(X_train[i].reshape(1, max_text_len)))\n",
        "    print(\"\\n\")"
      ],
      "execution_count": null,
      "outputs": []
    }
  ]
}